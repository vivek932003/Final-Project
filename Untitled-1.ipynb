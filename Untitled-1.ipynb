{
 "cells": [
  {
   "cell_type": "code",
   "execution_count": null,
   "metadata": {},
   "outputs": [],
   "source": [
    "#How has public sentiment toward electric vehicles shifted?"
   ]
  },
  {
   "cell_type": "code",
   "execution_count": 21,
   "metadata": {},
   "outputs": [],
   "source": [
    "import pandas as pd\n",
    "df_youtube = pd.read_csv('Youtubecommentonev.csv')\n",
    "#People comments on EV vehicles \n",
    "\n",
    "df_evbike_review = pd.read_csv('EVbikereviews.csv')\n",
    "#people reviews on EV bike \n",
    "df_evinterest = pd.read_csv('interest.csv')\n",
    "#Numbers represent search interest relative to the highest point on the chart for the given region and time. A value of 100 is the peak popularity for the term. A value of 50 means that the term is half as popular. A score of 0 means there was not enough data for this term."
   ]
  },
  {
   "cell_type": "code",
   "execution_count": 22,
   "metadata": {},
   "outputs": [
    {
     "name": "stdout",
     "output_type": "stream",
     "text": [
      "YouTube Comments Summary:\n",
      "             Likes  Reply Count\n",
      "count  424.000000   424.000000\n",
      "mean     1.783019     0.400943\n",
      "std      9.522406     1.727157\n",
      "min      0.000000     0.000000\n",
      "25%      0.000000     0.000000\n",
      "50%      0.000000     0.000000\n",
      "75%      1.000000     0.000000\n",
      "max    165.000000    22.000000\n",
      "\n",
      "EV Bike Reviews Summary:\n",
      "            rating  Visual Appeal  Reliability  Performance  \\\n",
      "count  844.000000     739.000000   716.000000   345.000000   \n",
      "mean     3.363744       3.779432     3.314246     3.527536   \n",
      "std      1.689873       1.350021     1.585024     1.507721   \n",
      "min      1.000000       1.000000     1.000000     1.000000   \n",
      "25%      1.000000       3.000000     2.000000     2.000000   \n",
      "50%      4.000000       4.000000     4.000000     4.000000   \n",
      "75%      5.000000       5.000000     5.000000     5.000000   \n",
      "max      5.000000       5.000000     5.000000     5.000000   \n",
      "\n",
      "       Service Experience  Extra Features     Comfort  Maintenance cost  \\\n",
      "count          703.000000      185.000000  530.000000        180.000000   \n",
      "mean             3.145092        2.935135    3.664151          3.394444   \n",
      "std              1.637871        1.630587    1.387371          1.392306   \n",
      "min              1.000000        1.000000    1.000000          1.000000   \n",
      "25%              1.000000        1.000000    3.000000          2.000000   \n",
      "50%              4.000000        3.000000    4.000000          4.000000   \n",
      "75%              5.000000        5.000000    5.000000          4.000000   \n",
      "max              5.000000        5.000000    5.000000          5.000000   \n",
      "\n",
      "       Value for Money  \n",
      "count       390.000000  \n",
      "mean          3.382051  \n",
      "std           1.510949  \n",
      "min           1.000000  \n",
      "25%           2.000000  \n",
      "50%           4.000000  \n",
      "75%           5.000000  \n",
      "max           5.000000  \n",
      "\n",
      "Interest Over Time Summary:\n",
      "        Category: All categories\n",
      "count                       252\n",
      "unique                       49\n",
      "top                          16\n",
      "freq                         31\n",
      "\n",
      "YouTube Comments Missing Values:\n",
      " Comment              0\n",
      "Anonymized Author    0\n",
      "Published At         0\n",
      "Likes                0\n",
      "Reply Count          0\n",
      "dtype: int64\n",
      "\n",
      "EV Bike Reviews Missing Values:\n",
      " review                 47\n",
      "Used it for             0\n",
      "Owned for               0\n",
      "Ridden for            176\n",
      "rating                  0\n",
      "Visual Appeal         105\n",
      "Reliability           128\n",
      "Performance           499\n",
      "Service Experience    141\n",
      "Extra Features        659\n",
      "Comfort               314\n",
      "Maintenance cost      664\n",
      "Value for Money       454\n",
      "Model Name              0\n",
      "dtype: int64\n",
      "\n",
      "Interest Over Time Missing Values:\n",
      " Category: All categories    0\n",
      "dtype: int64\n"
     ]
    }
   ],
   "source": [
    "# Summary statistics for numerical columns\n",
    "print(\"YouTube Comments Summary:\\n\", df_youtube.describe())\n",
    "print(\"\\nEV Bike Reviews Summary:\\n\", df_evbike_review.describe())\n",
    "print(\"\\nInterest Over Time Summary:\\n\", df_evinterest.describe())\n",
    "\n",
    "# Check for missing values\n",
    "print(\"\\nYouTube Comments Missing Values:\\n\", df_youtube.isnull().sum())\n",
    "print(\"\\nEV Bike Reviews Missing Values:\\n\", df_evbike_review.isnull().sum())\n",
    "print(\"\\nInterest Over Time Missing Values:\\n\", df_evinterest.isnull().sum())\n",
    "\n",
    "\n"
   ]
  },
  {
   "cell_type": "code",
   "execution_count": 38,
   "metadata": {},
   "outputs": [
    {
     "name": "stdout",
     "output_type": "stream",
     "text": [
      "Sentiment distribution:\n",
      " sentiment\n",
      "Neutral     331\n",
      "Positive     74\n",
      "Negative     19\n",
      "Name: count, dtype: int64\n"
     ]
    }
   ],
   "source": [
    "import pandas as pd\n",
    "\n",
    "# Load the YouTube comments dataset\n",
    "df_youtube = pd.read_csv('Youtubecommentonev.csv')\n",
    "\n",
    "# Define positive and negative keywords\n",
    "positive_keywords = ['good', 'great', 'love', 'like', 'amazing', 'support', 'environment', 'efficient']\n",
    "negative_keywords = ['bad', 'hate', 'dislike', 'pollution', 'expensive', 'slow', 'problem', 'issue']\n",
    "\n",
    "# Function to classify each comment based on keyword presence\n",
    "def classify_comment(comment):\n",
    "    comment = str(comment).lower()  # Convert to lowercase for matching\n",
    "    positive_count = sum(word in comment for word in positive_keywords)\n",
    "    negative_count = sum(word in comment for word in negative_keywords)\n",
    "    \n",
    "    if positive_count > negative_count:\n",
    "        return 'Positive'\n",
    "    elif negative_count > positive_count:\n",
    "        return 'Negative'\n",
    "    else:\n",
    "        return 'Neutral'\n",
    "\n",
    "# Apply the classification function to each comment\n",
    "df_youtube['sentiment'] = df_youtube['Comment'].apply(classify_comment)\n",
    "\n",
    "# Count the number of Positive, Negative, and Neutral comments\n",
    "sentiment_counts = df_youtube['sentiment'].value_counts()\n",
    "print(\"Sentiment distribution:\\n\", sentiment_counts)\n"
   ]
  }
 ],
 "metadata": {
  "kernelspec": {
   "display_name": "“is310”",
   "language": "python",
   "name": "python3"
  },
  "language_info": {
   "codemirror_mode": {
    "name": "ipython",
    "version": 3
   },
   "file_extension": ".py",
   "mimetype": "text/x-python",
   "name": "python",
   "nbconvert_exporter": "python",
   "pygments_lexer": "ipython3",
   "version": "3.9.19"
  },
  "orig_nbformat": 4
 },
 "nbformat": 4,
 "nbformat_minor": 2
}
