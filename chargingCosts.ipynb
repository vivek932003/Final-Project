{
 "cells": [
  {
   "cell_type": "code",
   "execution_count": 2,
   "metadata": {},
   "outputs": [
    {
     "name": "stdout",
     "output_type": "stream",
     "text": [
      "        Make        Model  Battery Capacity (kWh)  Charging Cost ($)\n",
      "0      TESLA      MODEL 3                    57.5              8.625\n",
      "1      TESLA      MODEL Y                    75.0             11.250\n",
      "2     NISSAN         LEAF                    39.0              5.850\n",
      "3      TESLA      MODEL S                    95.0             14.250\n",
      "4  CHEVROLET      BOLT EV                    65.0              9.750\n",
      "5  CHEVROLET         VOLT                    18.4              2.760\n",
      "6      TESLA      MODEL X                   100.0             15.000\n",
      "7     TOYOTA  PRIUS PRIME                    13.6              2.040\n",
      "8        KIA         NIRO                    64.8              9.720\n",
      "9        BMW           I3                    42.2              6.330\n",
      "Charging cost data saved to charging_cost_top_models.csv\n"
     ]
    }
   ],
   "source": [
    "import pandas as pd\n",
    "\n",
    "# Sample battery capacities for the models (in kWh)\n",
    "battery_capacity_data = {\n",
    "    \"MODEL 3\": 57.5,\n",
    "    \"MODEL Y\": 75,\n",
    "    \"LEAF\": 39,\n",
    "    \"MODEL S\": 95,\n",
    "    \"BOLT EV\": 65,\n",
    "    \"VOLT\": 18.4,\n",
    "    \"MODEL X\": 100,\n",
    "    \"PRIUS PRIME\": 13.6,\n",
    "    \"NIRO\": 64.8,\n",
    "    \"I3\": 42.2,\n",
    "\n",
    "}\n",
    "\n",
    "def calculate_charging_cost_top_models(input_file, electricity_rate_per_kwh):\n",
    "    # Load data\n",
    "    models_data = pd.read_csv(input_file)\n",
    "\n",
    "    # Add battery capacity and calculate charging cost\n",
    "    models_data['Battery Capacity (kWh)'] = models_data['Model'].map(battery_capacity_data)\n",
    "    models_data['Charging Cost ($)'] = models_data['Battery Capacity (kWh)'] * electricity_rate_per_kwh\n",
    "\n",
    "    # Display results\n",
    "    print(models_data[['Make', 'Model', 'Battery Capacity (kWh)', 'Charging Cost ($)']])\n",
    "\n",
    "    # Save results to a new file\n",
    "    output_file = \"charging_cost_top_models.csv\"\n",
    "    models_data.to_csv(output_file, index=False)\n",
    "    print(f\"Charging cost data saved to {output_file}\")\n",
    "\n",
    "# Specify input file and electricity rate\n",
    "input_file = \"Top_10_Make_and_Models.csv\"\n",
    "electricity_rate = 0.15  # $0.15 per kWh\n",
    "\n",
    "# Calculate charging costs\n",
    "calculate_charging_cost_top_models(input_file, electricity_rate)"
   ]
  },
  {
   "cell_type": "code",
   "execution_count": 5,
   "metadata": {},
   "outputs": [
    {
     "name": "stdout",
     "output_type": "stream",
     "text": [
      "        Make           Model  Tank Capacity (gallons)  Gas Cost ($)\n",
      "0       Ford        F-Series                     33.3      101.7981\n",
      "1  Chevrolet       Silverado                     24.0       73.3680\n",
      "2        Ram            1500                     26.0       79.4820\n",
      "3     Toyota            RAV4                     14.5       44.3265\n",
      "4      Honda            CR-V                     14.0       42.7980\n",
      "5        GMC          Sierra                     24.0       73.3680\n",
      "6     Toyota           Camry                     15.8       48.3006\n",
      "7     Nissan           Rogue                     14.5       44.3265\n",
      "8       Jeep  Grand Cherokee                     23.0       70.3110\n",
      "9     Toyota          Tacoma                     21.1       64.5027\n",
      "Top 10 gas cost data saved to gas_cost_top_10_models.csv\n"
     ]
    }
   ],
   "source": [
    "import pandas as pd\n",
    "\n",
    "# Sample full tank capacities for the models (in gallons)\n",
    "tank_capacity_data = {\n",
    "    \"F-Series\": 33.3,\n",
    "    \"Silverado\": 24,\n",
    "    \"1500\": 26,\n",
    "    \"RAV4\": 14.5,\n",
    "    \"CR-V\": 14,\n",
    "    \"Sierra\": 24,\n",
    "    \"Camry\": 15.8,\n",
    "    \"Rogue\": 14.5,\n",
    "    \"Grand Cherokee\": 23,\n",
    "    \"Tacoma\": 21.1,\n",
    "}\n",
    "\n",
    "def calculate_gas_cost_top_models(input_file, gas_price_per_gallon):\n",
    "    # Load data\n",
    "    models_data = pd.read_csv(input_file)\n",
    "\n",
    "    # Add tank capacity and calculate gas cost\n",
    "    models_data['Tank Capacity (gallons)'] = models_data['Model'].map(tank_capacity_data)\n",
    "    models_data['Gas Cost ($)'] = models_data['Tank Capacity (gallons)'] * gas_price_per_gallon\n",
    "\n",
    "    # Sort by gas cost in descending order and take the top 10\n",
    "    top_10_models = models_data[['Make', 'Model', 'Tank Capacity (gallons)', 'Gas Cost ($)']].head(10)\n",
    "\n",
    "    # Display top 10 results\n",
    "    print(top_10_models)\n",
    "\n",
    "    # Save results to a new file\n",
    "    output_file = \"gas_cost_top_10_models.csv\"\n",
    "    top_10_models.to_csv(output_file, index=False)\n",
    "    print(f\"Top 10 gas cost data saved to {output_file}\")\n",
    "\n",
    "# Specify input file and gas price\n",
    "input_file = \"Top_50_non_electric_vehicles.csv\"\n",
    "gas_price = 3.057  # 3.057 Per gallon\n",
    "\n",
    "# Calculate gas costs\n",
    "calculate_gas_cost_top_models(input_file, gas_price)\n"
   ]
  }
 ],
 "metadata": {
  "kernelspec": {
   "display_name": "is310",
   "language": "python",
   "name": "python3"
  },
  "language_info": {
   "codemirror_mode": {
    "name": "ipython",
    "version": 3
   },
   "file_extension": ".py",
   "mimetype": "text/x-python",
   "name": "python",
   "nbconvert_exporter": "python",
   "pygments_lexer": "ipython3",
   "version": "3.12.0"
  }
 },
 "nbformat": 4,
 "nbformat_minor": 2
}
